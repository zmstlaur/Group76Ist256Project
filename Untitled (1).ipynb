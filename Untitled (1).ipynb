{
 "cells": [
  {
   "cell_type": "code",
   "execution_count": 1,
   "metadata": {},
   "outputs": [
    {
     "name": "stdout",
     "output_type": "stream",
     "text": [
      "Fort Stanwix\n",
      "National Aviation\n",
      "National Capital Parks-East\n"
     ]
    }
   ],
   "source": [
    "import requests, json\n",
    "key = \"api_key=kPVpmpnctTPNOQC1IEfgIfpaYtGx4h2Zry0hsTue\"\n",
    "url = f\"https://developer.nps.gov/api/v1/parks?limit=3&{key}\"\n",
    "response = requests.get(url)\n",
    "data = response.json()\n",
    "x=-1\n",
    "for park in data:\n",
    "    try:\n",
    "        x+=1\n",
    "        print(data[\"data\"][x][\"name\"])\n",
    "    except IndexError:\n",
    "        break\n"
   ]
  },
  {
   "cell_type": "code",
   "execution_count": 5,
   "metadata": {},
   "outputs": [
    {
     "data": {
      "text/plain": [
       "('43.21053441', '-75.45557626')"
      ]
     },
     "execution_count": 5,
     "metadata": {},
     "output_type": "execute_result"
    }
   ],
   "source": [
    "key = \"api_key=kPVpmpnctTPNOQC1IEfgIfpaYtGx4h2Zry0hsTue\"\n",
    "url = f\"https://developer.nps.gov/api/v1/parks?limit=3&{key}\"\n",
    "response = requests.get(url)\n",
    "data = response.json()\n",
    "x=-1\n",
    "for park in data:\n",
    "    try:\n",
    "        x+=1\n",
    "    print(data[\"data\"][0][\"latitude\"], data[\"data\"][0][\"longitude\"])\n",
    "    except IndexError:\n",
    "        break\n"
   ]
  },
  {
   "cell_type": "code",
   "execution_count": 6,
   "metadata": {},
   "outputs": [
    {
     "name": "stdout",
     "output_type": "stream",
     "text": [
      "Enter a National Park you'd like to visit: Yellowstone\n",
      "Enter the State Yellowstone is located (Ex: NY):  WY\n",
      "Yellowstone National Park is located in Wyoming, United States of America\n",
      "The weather in Wyoming, United States of America is Sunny with a temperature of 46.0 F.\n"
     ]
    }
   ],
   "source": [
    "import requests, json\n",
    "parkname=input(\"Enter a National Park you'd like to visit: \")\n",
    "parkstate=input(f\"Enter the State {parkname} is located (Ex: NY):  \")\n",
    "key = \"api_key=kPVpmpnctTPNOQC1IEfgIfpaYtGx4h2Zry0hsTue\"\n",
    "url = f\"https://developer.nps.gov/api/v1/parks?{key}&q={parkname}&stateCode={parkstate}\"\n",
    "response = requests.get(url)\n",
    "data = response.json()\n",
    "name = data['data'][0]['fullName']\n",
    "coords = f\"{data['data'][0]['latitude']}, {data['data'][0]['longitude']}\"\n",
    "\n",
    "weather = getweather(coords)\n",
    "place =f\"{weather['location']['region']}, {weather['location']['country']}\"\n",
    "weather_desc = weather['current']['condition']['text']\n",
    "temp = weather['current']['temp_f']\n",
    "weather_forecast = f\"The weather in {place} is {weather_desc} with a temperature of {temp} F.\"\n",
    "\n",
    "\n",
    "\n",
    "print(f\"{name} is located in {place}\")\n",
    "print(weather_forecast)"
   ]
  },
  {
   "cell_type": "code",
   "execution_count": 5,
   "metadata": {},
   "outputs": [],
   "source": [
    "def getweather(coords):\n",
    "    url2 = 'http://api.weatherapi.com/v1/current.json'\n",
    "    header = { 'key': '1f4d1216f8664c3f89f152008201104', 'q':coords}\n",
    "    response = requests.get(url=url2,params=header)\n",
    "    weather = response.json()\n",
    "    return weather"
   ]
  },
  {
   "cell_type": "code",
   "execution_count": 1,
   "metadata": {
    "scrolled": false
   },
   "outputs": [
    {
     "data": {
      "text/html": [
       "<div style=\"width:100%;\"><div style=\"position:relative;width:100%;height:0;padding-bottom:60%;\"><iframe src=\"data:text/html;charset=utf-8;base64,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\" style=\"position:absolute;width:100%;height:100%;left:0;top:0;border:none !important;\" allowfullscreen webkitallowfullscreen mozallowfullscreen></iframe></div></div>"
      ],
      "text/plain": [
       "<folium.folium.Map at 0x7fc9140f0a90>"
      ]
     },
     "execution_count": 1,
     "metadata": {},
     "output_type": "execute_result"
    }
   ],
   "source": [
    "lat =43.21053441\n",
    "lon = -75.45557626\n",
    "name = 'name'\n",
    "import folium\n",
    "map = folium.Map(location=[lat,lon], zoom_start=5, width= '50%', height = '50%')\n",
    "folium.Marker(location=[lat,lon] ,popup = name, \n",
    "                  color='red').add_to(map) \n",
    "map\n",
    "\n",
    "\n"
   ]
  },
  {
   "cell_type": "code",
   "execution_count": 2,
   "metadata": {},
   "outputs": [
    {
     "data": {
      "text/plain": [
       "[51.6878246, -114.2502063]"
      ]
     },
     "execution_count": 2,
     "metadata": {},
     "output_type": "execute_result"
    }
   ],
   "source": [
    "import geocoder\n",
    "g = geocoder.osm('Mountain View, CA')\n",
    "g.latlng\n"
   ]
  },
  {
   "cell_type": "code",
   "execution_count": null,
   "metadata": {},
   "outputs": [],
   "source": []
  },
  {
   "cell_type": "code",
   "execution_count": null,
   "metadata": {},
   "outputs": [],
   "source": []
  }
 ],
 "metadata": {
  "kernelspec": {
   "display_name": "Python 3",
   "language": "python",
   "name": "python3"
  },
  "language_info": {
   "codemirror_mode": {
    "name": "ipython",
    "version": 3
   },
   "file_extension": ".py",
   "mimetype": "text/x-python",
   "name": "python",
   "nbconvert_exporter": "python",
   "pygments_lexer": "ipython3",
   "version": "3.7.6"
  }
 },
 "nbformat": 4,
 "nbformat_minor": 2
}
